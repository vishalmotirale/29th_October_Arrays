{
 "cells": [
  {
   "cell_type": "markdown",
   "id": "9953de0e-eb67-4b00-9238-665f07e90c9b",
   "metadata": {},
   "source": [
    "# Arrays"
   ]
  },
  {
   "cell_type": "code",
   "execution_count": 10,
   "id": "9b053254-721a-4fa0-bbda-d7789545138f",
   "metadata": {},
   "outputs": [
    {
     "name": "stdout",
     "output_type": "stream",
     "text": [
      "True\n"
     ]
    }
   ],
   "source": [
    "#1. Given an array, check if it contains any duplicates or not. \n",
    "\n",
    "def duplicates(arr):\n",
    "    arr.sort()                       #sort the array\n",
    "    for i in range(len(arr)-1):      # Iterates through the indices of the array from 0 to the second-to-last index.\n",
    "        if arr[i] == arr[i+1]:    #Checks if the current element is equal to the next element in the sorted array. If it is, that means there is a duplicate.\n",
    "            return True   # if duplicate is found then return True\n",
    "    return False          # else return False\n",
    "arr = [1, 2, 4, 2, 5, 9]  \n",
    "print(duplicates(arr))"
   ]
  },
  {
   "cell_type": "code",
   "execution_count": 11,
   "id": "2ce96b63-4728-474b-bd9f-ddd57be59caf",
   "metadata": {},
   "outputs": [
    {
     "name": "stdout",
     "output_type": "stream",
     "text": [
      "[5, 6, 7, 1, 2, 3, 4]\n"
     ]
    }
   ],
   "source": [
    "#2. Given an array and an integer k, rotate the array to the right by k steps. \n",
    "def rotate_array(nums,k):\n",
    "    n = len(nums)        #find the length of numbers in array\n",
    "    k %= n        #Modifies k to ensure that it falls within the range of array indices. This is done to handle cases where k is greater than the length of the array.\n",
    "    nums[:] = nums[-k:] + nums[:-k] # rotates the array to the right by k steps.\n",
    "arr = [1, 2, 3, 4, 5, 6, 7]\n",
    "k = 3                #This means the array has been rotated to the right by 3 steps.\n",
    "rotate_array(arr,k)    \n",
    "print(arr)"
   ]
  },
  {
   "cell_type": "code",
   "execution_count": 1,
   "id": "4e6d2de3-5c76-4958-9035-9b6382a21c4c",
   "metadata": {},
   "outputs": [
    {
     "name": "stdout",
     "output_type": "stream",
     "text": [
      "[12, 9, 7, 5, 4, 2]\n"
     ]
    }
   ],
   "source": [
    "#3. Reverse the given array in-place, means without using any extra data structure. \n",
    "def reverse_arr(arr):\n",
    "    return arr[::-1]   #return the reversed version of the input array using slicing \n",
    "arr = [2, 4, 5, 7, 9, 12]\n",
    "print(reverse_arr(arr))"
   ]
  },
  {
   "cell_type": "code",
   "execution_count": 22,
   "id": "2c7708f2-cc72-43a2-809d-a55163aa1587",
   "metadata": {},
   "outputs": [
    {
     "data": {
      "text/plain": [
       "20"
      ]
     },
     "execution_count": 22,
     "metadata": {},
     "output_type": "execute_result"
    }
   ],
   "source": [
    "#4. Given an array of integers, find the maximum element in an array \n",
    "arr = [10, 5, 20, 8, 15]\n",
    "max(arr)     #Return maximum element in arr"
   ]
  },
  {
   "cell_type": "code",
   "execution_count": 26,
   "id": "f1815910-d190-4018-9a8c-c741275d2970",
   "metadata": {},
   "outputs": [
    {
     "name": "stdout",
     "output_type": "stream",
     "text": [
      "[1, 2, 3, 4, 5]\n"
     ]
    }
   ],
   "source": [
    "def remove_duplicates(nums):\n",
    "    if not nums:\n",
    "        return 0\n",
    "\n",
    "    write_index = 1  # Index to write next non-duplicate element\n",
    "    for i in range(1, len(nums)):\n",
    "        if nums[i] != nums[write_index - 1]:  # If current element is not a duplicate\n",
    "            nums[write_index] = nums[i]  # Overwrite next non-duplicate element\n",
    "            write_index += 1  # Move to next position for writing\n",
    "\n",
    "    return write_index\n",
    "arr = [1, 1, 2, 2, 2, 3, 3, 4, 4, 4, 5, 5] \n",
    "new_length = remove_duplicates(arr)\n",
    "print(arr[:new_length])"
   ]
  }
 ],
 "metadata": {
  "kernelspec": {
   "display_name": "Python 3 (ipykernel)",
   "language": "python",
   "name": "python3"
  },
  "language_info": {
   "codemirror_mode": {
    "name": "ipython",
    "version": 3
   },
   "file_extension": ".py",
   "mimetype": "text/x-python",
   "name": "python",
   "nbconvert_exporter": "python",
   "pygments_lexer": "ipython3",
   "version": "3.11.7"
  },
  "widgets": {
   "application/vnd.jupyter.widget-state+json": {
    "state": {},
    "version_major": 2,
    "version_minor": 0
   }
  }
 },
 "nbformat": 4,
 "nbformat_minor": 5
}
